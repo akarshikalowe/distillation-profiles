{
 "cells": [
  {
   "cell_type": "code",
   "execution_count": 96,
   "metadata": {},
   "outputs": [],
   "source": [
    "import pandas as pd\n",
    "import os.path\n"
   ]
  },
  {
   "cell_type": "code",
   "execution_count": 132,
   "metadata": {},
   "outputs": [
    {
     "name": "stdout",
     "output_type": "stream",
     "text": [
      "Select the crude oil from the following options:\n",
      "1. Light Smiley\n",
      "2. Peace\n",
      "3. Federated\n",
      "4. Pembina \n",
      "5. Secure Sask Light \n",
      "6. Mixed Sweet Blend \n",
      "7. Rainbow \n",
      "8. BC Light\n",
      "9. Boundary Lake\n",
      "10. Koch Alberta \n",
      "11. Moose Jaw Tops \n",
      "12. Pembina Light Sour \n",
      "13. Hardisty Light \n",
      "14. Medium Gibson Sour \n",
      "15. Midale \n",
      "16. Peace Pipe Sour \n",
      "17. Conventional Heavy\n"
     ]
    }
   ],
   "source": [
    "# Options for selecting crude oil\n",
    "print(\"Select the crude oil from the following options:\\n1. Light Smiley\\n2. Peace\\n3. Federated\\n4. Pembina \\n5. Secure Sask Light \\n6. Mixed Sweet Blend \\n7. Rainbow \\n8. BC Light\\n9. Boundary Lake\\n10. Koch Alberta \\n11. Moose Jaw Tops \\n12. Pembina Light Sour \\n13. Hardisty Light \\n14. Medium Gibson Sour \\n15. Midale \\n16. Peace Pipe Sour \\n17. Conventional Heavy\")"
   ]
  },
  {
   "cell_type": "code",
   "execution_count": 133,
   "metadata": {},
   "outputs": [
    {
     "name": "stdout",
     "output_type": "stream",
     "text": [
      "Please enter the name of first crude oil:Light Smiley\n"
     ]
    }
   ],
   "source": [
    "# User entry for 1st crude oil\n",
    "crude_oil_1 = input(\"Please enter the name of first crude oil:\")"
   ]
  },
  {
   "cell_type": "code",
   "execution_count": 134,
   "metadata": {},
   "outputs": [
    {
     "name": "stdout",
     "output_type": "stream",
     "text": [
      "Please enter the name of second crude oil:Pembina\n"
     ]
    }
   ],
   "source": [
    "# User entry for 2nd crude oil\n",
    "crude_oil_2 = input(\"Please enter the name of second crude oil:\")"
   ]
  },
  {
   "cell_type": "code",
   "execution_count": 135,
   "metadata": {},
   "outputs": [
    {
     "name": "stdout",
     "output_type": "stream",
     "text": [
      "Data exist\n",
      "Distillation profile of the 1st crude oil:\n",
      "Crude Name        Light Smiley\n",
      "5% Off (deg. C)           52.8\n",
      "10% Off (deg. C)         111.3\n",
      "20% Off (deg. C)         170.2\n",
      "30% Off (deg. C)           229\n",
      "40% Off (deg. C)         283.2\n",
      "50% Off (deg. C)         333.7\n",
      "60% Off (deg. C)         390.6\n",
      "70% Off (deg. C)           448\n",
      "80% Off (deg. C)         517.9\n",
      "90% Off (deg. C)         622.7\n",
      "95% Off (deg. C)         705.3\n",
      "99% Off (deg. C)           NaN\n",
      "100% Off (deg. C)          NaN\n"
     ]
    }
   ],
   "source": [
    "# First crude oil\n",
    "# .lower() to handle uppercase or lowercase user entry\n",
    "# selecting csv file of first crude oil from data_files folder\n",
    "csv_file_crude_oil_1 = \"data_files/\" + crude_oil_1.lower() + \".csv\"\n",
    "\n",
    "if os.path.isfile(csv_file_crude_oil_1):\n",
    "    print(\"Data exist\")\n",
    "    # Reading csv file for the 1st oil\n",
    "    df_crude_oil_1 = pd.read_csv(csv_file_crude_oil_1)\n",
    "    # selecting required columns\n",
    "    df_crude_oil_1_dist = df_crude_oil_1[[\"Crude Name\", \"Date\", \"5% Off (deg. C)\", \"10% Off (deg. C)\", \"20% Off (deg. C)\", \"30% Off (deg. C)\", \"40% Off (deg. C)\",\n",
    "                    \"50% Off (deg. C)\", \"60% Off (deg. C)\",\"70% Off (deg. C)\", \"80% Off (deg. C)\", \"90% Off (deg. C)\", \"95% Off (deg. C)\", \"99% Off (deg. C)\", \"100% Off (deg. C)\"]]\n",
    "    # Drop the unwanted rows and selecting recent data \n",
    "    # Removing the rows that has NaN values\n",
    "    df_crude_oil_1_dropna = df_crude_oil_1_dist.dropna(thresh=3)\n",
    "    df_crude_oil_1_recent = df_crude_oil_1_dropna.head(1)\n",
    "    # Transpose the dataframe \n",
    "    df_crude_oil_1_recent_T = df_crude_oil_1_recent.T\n",
    "    df_crude_oil_1_recent_T.columns = df_crude_oil_1_recent_T.iloc[0]\n",
    "    df_crude_oil_1_recent_T_1 = df_crude_oil_1_recent_T.drop(df_crude_oil_1_recent_T.index[0])\n",
    "    df_crude_oil_1_recent_T_2 = df_crude_oil_1_recent_T_1.drop(df_crude_oil_1_recent_T.index[1])\n",
    "    print(\"Distillation profile of the 1st crude oil:\")\n",
    "    print(df_crude_oil_1_recent_T_2)\n",
    "\n",
    "else:\n",
    "    print (\"Data does not exist for:\" + crude_oil_1)\n",
    "    \n"
   ]
  },
  {
   "cell_type": "code",
   "execution_count": 117,
   "metadata": {},
   "outputs": [
    {
     "name": "stdout",
     "output_type": "stream",
     "text": [
      "Data exist\n",
      "Distillation profile of the 2nd crude oil:\n",
      "Crude Name        Mixed Sweet Blend\n",
      "5% Off (deg. C)                43.5\n",
      "10% Off (deg. C)               93.9\n",
      "20% Off (deg. C)              134.9\n",
      "30% Off (deg. C)                189\n",
      "40% Off (deg. C)              246.8\n",
      "50% Off (deg. C)              301.7\n",
      "60% Off (deg. C)              360.7\n",
      "70% Off (deg. C)              424.4\n",
      "80% Off (deg. C)                499\n",
      "90% Off (deg. C)              607.6\n",
      "95% Off (deg. C)                707\n",
      "99% Off (deg. C)                NaN\n",
      "100% Off (deg. C)               NaN\n"
     ]
    }
   ],
   "source": [
    "# Second crude oil\n",
    "# .lower() to handle uppercase or lowercase user entry\n",
    "# selecting csv file of second crude oil from data_files folder\n",
    "csv_file_crude_oil_2= \"data_files/\" + crude_oil_2.lower() + \".csv\"\n",
    "\n",
    "if os.path.isfile(csv_file_crude_oil_2):\n",
    "    print (\"Data exist\")\n",
    "    # Reading csv file for the 2nd oil\n",
    "    df_crude_oil_2 = pd.read_csv(csv_file_crude_oil_2)\n",
    "    df_crude_oil_2_dist = df_crude_oil_2[[\"Crude Name\", \"Date\", \"5% Off (deg. C)\",\"10% Off (deg. C)\",\"20% Off (deg. C)\",\"30% Off (deg. C)\",\"40% Off (deg. C)\",\n",
    "                    \"50% Off (deg. C)\",\"60% Off (deg. C)\",\"70% Off (deg. C)\",\"80% Off (deg. C)\",\"90% Off (deg. C)\",\"95% Off (deg. C)\",\"99% Off (deg. C)\",\"100% Off (deg. C)\"]]\n",
    "\n",
    "    # Drop the unwanted rows and selecting recent data\n",
    "    df_crude_oil_2_dropna = df_crude_oil_2_dist.dropna(thresh=3)\n",
    "    df_crude_oil_2_recent = df_crude_oil_2_dropna.head(1)\n",
    "    # Transpose the dataframe\n",
    "    df_crude_oil_2_recent_T = df_crude_oil_2_recent.T\n",
    "    df_crude_oil_2_recent_T.columns = df_crude_oil_2_recent_T.iloc[0]\n",
    "    df_crude_oil_2_recent_T_1 = df_crude_oil_2_recent_T.drop(df_crude_oil_2_recent_T.index[0])\n",
    "    df_crude_oil_2_recent_T_2 = df_crude_oil_2_recent_T_1.drop(df_crude_oil_2_recent_T.index[1])\n",
    "    print(\"Distillation profile of the 2nd crude oil:\")\n",
    "    print(df_crude_oil_2_recent_T_2)\n",
    "else:\n",
    "    print (\"Data does not exist for: \" + crude_oil_2)\n",
    "    "
   ]
  },
  {
   "cell_type": "code",
   "execution_count": 136,
   "metadata": {},
   "outputs": [
    {
     "data": {
      "text/html": [
       "<div>\n",
       "<style scoped>\n",
       "    .dataframe tbody tr th:only-of-type {\n",
       "        vertical-align: middle;\n",
       "    }\n",
       "\n",
       "    .dataframe tbody tr th {\n",
       "        vertical-align: top;\n",
       "    }\n",
       "\n",
       "    .dataframe thead th {\n",
       "        text-align: right;\n",
       "    }\n",
       "</style>\n",
       "<table border=\"1\" class=\"dataframe\">\n",
       "  <thead>\n",
       "    <tr style=\"text-align: right;\">\n",
       "      <th>Crude Name</th>\n",
       "      <th>Light Smiley</th>\n",
       "      <th>Mixed Sweet Blend</th>\n",
       "    </tr>\n",
       "  </thead>\n",
       "  <tbody>\n",
       "    <tr>\n",
       "      <th>5% Off (deg. C)</th>\n",
       "      <td>52.8</td>\n",
       "      <td>43.5</td>\n",
       "    </tr>\n",
       "    <tr>\n",
       "      <th>10% Off (deg. C)</th>\n",
       "      <td>111.3</td>\n",
       "      <td>93.9</td>\n",
       "    </tr>\n",
       "    <tr>\n",
       "      <th>20% Off (deg. C)</th>\n",
       "      <td>170.2</td>\n",
       "      <td>134.9</td>\n",
       "    </tr>\n",
       "    <tr>\n",
       "      <th>30% Off (deg. C)</th>\n",
       "      <td>229</td>\n",
       "      <td>189</td>\n",
       "    </tr>\n",
       "    <tr>\n",
       "      <th>40% Off (deg. C)</th>\n",
       "      <td>283.2</td>\n",
       "      <td>246.8</td>\n",
       "    </tr>\n",
       "    <tr>\n",
       "      <th>50% Off (deg. C)</th>\n",
       "      <td>333.7</td>\n",
       "      <td>301.7</td>\n",
       "    </tr>\n",
       "    <tr>\n",
       "      <th>60% Off (deg. C)</th>\n",
       "      <td>390.6</td>\n",
       "      <td>360.7</td>\n",
       "    </tr>\n",
       "    <tr>\n",
       "      <th>70% Off (deg. C)</th>\n",
       "      <td>448</td>\n",
       "      <td>424.4</td>\n",
       "    </tr>\n",
       "    <tr>\n",
       "      <th>80% Off (deg. C)</th>\n",
       "      <td>517.9</td>\n",
       "      <td>499</td>\n",
       "    </tr>\n",
       "    <tr>\n",
       "      <th>90% Off (deg. C)</th>\n",
       "      <td>622.7</td>\n",
       "      <td>607.6</td>\n",
       "    </tr>\n",
       "    <tr>\n",
       "      <th>95% Off (deg. C)</th>\n",
       "      <td>705.3</td>\n",
       "      <td>707</td>\n",
       "    </tr>\n",
       "    <tr>\n",
       "      <th>99% Off (deg. C)</th>\n",
       "      <td>NaN</td>\n",
       "      <td>NaN</td>\n",
       "    </tr>\n",
       "  </tbody>\n",
       "</table>\n",
       "</div>"
      ],
      "text/plain": [
       "Crude Name       Light Smiley Mixed Sweet Blend\n",
       "5% Off (deg. C)          52.8              43.5\n",
       "10% Off (deg. C)        111.3              93.9\n",
       "20% Off (deg. C)        170.2             134.9\n",
       "30% Off (deg. C)          229               189\n",
       "40% Off (deg. C)        283.2             246.8\n",
       "50% Off (deg. C)        333.7             301.7\n",
       "60% Off (deg. C)        390.6             360.7\n",
       "70% Off (deg. C)          448             424.4\n",
       "80% Off (deg. C)        517.9               499\n",
       "90% Off (deg. C)        622.7             607.6\n",
       "95% Off (deg. C)        705.3               707\n",
       "99% Off (deg. C)          NaN               NaN"
      ]
     },
     "execution_count": 136,
     "metadata": {},
     "output_type": "execute_result"
    }
   ],
   "source": [
    "# Join two crude oils data frames \n",
    "df_final = pd.concat([df_crude_oil_1_recent_T_2,df_crude_oil_2_recent_T_2], axis=1, join=\"inner\")\n",
    "# Removing the last index as 100% is out of scope\n",
    "result = df_final.drop(df_final.index[12])\n",
    "result"
   ]
  },
  {
   "cell_type": "code",
   "execution_count": 137,
   "metadata": {},
   "outputs": [
    {
     "name": "stdout",
     "output_type": "stream",
     "text": [
      "The distillation profile of the mixture is :\n"
     ]
    },
    {
     "data": {
      "text/html": [
       "<div>\n",
       "<style scoped>\n",
       "    .dataframe tbody tr th:only-of-type {\n",
       "        vertical-align: middle;\n",
       "    }\n",
       "\n",
       "    .dataframe tbody tr th {\n",
       "        vertical-align: top;\n",
       "    }\n",
       "\n",
       "    .dataframe thead th {\n",
       "        text-align: right;\n",
       "    }\n",
       "</style>\n",
       "<table border=\"1\" class=\"dataframe\">\n",
       "  <thead>\n",
       "    <tr style=\"text-align: right;\">\n",
       "      <th></th>\n",
       "      <th>Percent oil evaporated</th>\n",
       "      <th>Temperature(Celcius)</th>\n",
       "    </tr>\n",
       "  </thead>\n",
       "  <tbody>\n",
       "    <tr>\n",
       "      <th>0</th>\n",
       "      <td>5%</td>\n",
       "      <td>48.15</td>\n",
       "    </tr>\n",
       "    <tr>\n",
       "      <th>1</th>\n",
       "      <td>10%</td>\n",
       "      <td>102.60</td>\n",
       "    </tr>\n",
       "    <tr>\n",
       "      <th>2</th>\n",
       "      <td>20%</td>\n",
       "      <td>152.55</td>\n",
       "    </tr>\n",
       "    <tr>\n",
       "      <th>3</th>\n",
       "      <td>30%</td>\n",
       "      <td>209.00</td>\n",
       "    </tr>\n",
       "    <tr>\n",
       "      <th>4</th>\n",
       "      <td>40%</td>\n",
       "      <td>265.00</td>\n",
       "    </tr>\n",
       "    <tr>\n",
       "      <th>5</th>\n",
       "      <td>50%</td>\n",
       "      <td>317.70</td>\n",
       "    </tr>\n",
       "    <tr>\n",
       "      <th>6</th>\n",
       "      <td>60%</td>\n",
       "      <td>375.65</td>\n",
       "    </tr>\n",
       "    <tr>\n",
       "      <th>7</th>\n",
       "      <td>70%</td>\n",
       "      <td>436.20</td>\n",
       "    </tr>\n",
       "    <tr>\n",
       "      <th>8</th>\n",
       "      <td>80%</td>\n",
       "      <td>508.45</td>\n",
       "    </tr>\n",
       "    <tr>\n",
       "      <th>9</th>\n",
       "      <td>90%</td>\n",
       "      <td>615.15</td>\n",
       "    </tr>\n",
       "    <tr>\n",
       "      <th>10</th>\n",
       "      <td>95%</td>\n",
       "      <td>706.15</td>\n",
       "    </tr>\n",
       "    <tr>\n",
       "      <th>11</th>\n",
       "      <td>99%</td>\n",
       "      <td>NaN</td>\n",
       "    </tr>\n",
       "  </tbody>\n",
       "</table>\n",
       "</div>"
      ],
      "text/plain": [
       "   Percent oil evaporated  Temperature(Celcius)\n",
       "0                      5%                 48.15\n",
       "1                     10%                102.60\n",
       "2                     20%                152.55\n",
       "3                     30%                209.00\n",
       "4                     40%                265.00\n",
       "5                     50%                317.70\n",
       "6                     60%                375.65\n",
       "7                     70%                436.20\n",
       "8                     80%                508.45\n",
       "9                     90%                615.15\n",
       "10                    95%                706.15\n",
       "11                    99%                   NaN"
      ]
     },
     "execution_count": 137,
     "metadata": {},
     "output_type": "execute_result"
    }
   ],
   "source": [
    "# Calculating mean values for calculating the temperature of the mixture of any 2 crude oil defined by user\n",
    "df_mean = pd.DataFrame(result.mean(1).mask(result.isnull().any(1)))\n",
    "value = ['5%','10%', '20%', '30%', '40%', '50%', '60%', '70%', '80%', '90%', '95%', '99%']\n",
    "df_mean.insert(0, \"Percent oil evaporated\", value, allow_duplicates = False)\n",
    "df_mean.columns = ['Percent oil evaporated', 'Temperature(Celcius)'] \n",
    "df_mean.reset_index(inplace=True, drop=True)\n",
    "print(\"The distillation profile of the mixture is :\")\n",
    "df_mean"
   ]
  },
  {
   "cell_type": "code",
   "execution_count": 138,
   "metadata": {},
   "outputs": [
    {
     "name": "stdout",
     "output_type": "stream",
     "text": [
      "Select the volume(%) from the following:\n",
      " 5%\n",
      "10%\n",
      "20%\n",
      "30%\n",
      "40%\n",
      "50%\n",
      "60%\n",
      "70%\n",
      "80%\n",
      "90%\n",
      "95%\n",
      "99%\n"
     ]
    }
   ],
   "source": [
    "print(\"Select the volume(%) from the following:\\n 5%\\n10%\\n20%\\n30%\\n40%\\n50%\\n60%\\n70%\\n80%\\n90%\\n95%\\n99%\")"
   ]
  },
  {
   "cell_type": "code",
   "execution_count": 156,
   "metadata": {},
   "outputs": [
    {
     "name": "stdout",
     "output_type": "stream",
     "text": [
      "Please enter the volume (%) of evaporated mixture:30%\n"
     ]
    }
   ],
   "source": [
    "val = input(\"Please enter the volume (%) of evaporated mixture:\")"
   ]
  },
  {
   "cell_type": "code",
   "execution_count": 157,
   "metadata": {},
   "outputs": [
    {
     "name": "stdout",
     "output_type": "stream",
     "text": [
      "Distillation profile of the mixture is:\n",
      "  Percent oil evaporated  Temperature(Celcius)\n",
      "3                    30%                 209.0\n"
     ]
    }
   ],
   "source": [
    "rslt_df = df_mean[df_mean['Percent oil evaporated'] == val] \n",
    "if rslt_df.empty:\n",
    "    print('Please enter the correct volume (%) of evaporated mixture')\n",
    "else:\n",
    "    print(\"Distillation profile of the mixture is:\")\n",
    "    print(rslt_df)\n"
   ]
  },
  {
   "cell_type": "code",
   "execution_count": null,
   "metadata": {},
   "outputs": [],
   "source": []
  },
  {
   "cell_type": "code",
   "execution_count": null,
   "metadata": {},
   "outputs": [],
   "source": [
    "\n"
   ]
  },
  {
   "cell_type": "code",
   "execution_count": null,
   "metadata": {},
   "outputs": [],
   "source": []
  }
 ],
 "metadata": {
  "kernelspec": {
   "display_name": "Python 3",
   "language": "python",
   "name": "python3"
  },
  "language_info": {
   "codemirror_mode": {
    "name": "ipython",
    "version": 3
   },
   "file_extension": ".py",
   "mimetype": "text/x-python",
   "name": "python",
   "nbconvert_exporter": "python",
   "pygments_lexer": "ipython3",
   "version": "3.8.5"
  }
 },
 "nbformat": 4,
 "nbformat_minor": 4
}
